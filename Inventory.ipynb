{
 "cells": [
  {
   "cell_type": "code",
   "execution_count": 39,
   "metadata": {},
   "outputs": [
    {
     "name": "stdout",
     "output_type": "stream",
     "text": [
      "----Welcome to your Home Inventory Application----\n",
      "Use the following commands to utilize its features\n",
      "-start()\n",
      "-read()\n",
      "-save()\n",
      "-add_items()\n",
      "-search()\n",
      "-display()\n",
      "To quit press 'q'\n",
      "Inventory Created\n"
     ]
    },
    {
     "ename": "AttributeError",
     "evalue": "type object 'Inventory' has no attribute 'inventories'",
     "output_type": "error",
     "traceback": [
      "\u001b[1;31m---------------------------------------------------------------------------\u001b[0m",
      "\u001b[1;31mAttributeError\u001b[0m                            Traceback (most recent call last)",
      "\u001b[1;32m<ipython-input-39-d29cf552a03e>\u001b[0m in \u001b[0;36m<module>\u001b[1;34m\u001b[0m\n\u001b[0;32m     51\u001b[0m \u001b[1;33m\u001b[0m\u001b[0m\n\u001b[0;32m     52\u001b[0m \u001b[1;33m\u001b[0m\u001b[0m\n\u001b[1;32m---> 53\u001b[1;33m \u001b[0minv1\u001b[0m \u001b[1;33m=\u001b[0m \u001b[0mInventory\u001b[0m\u001b[1;33m(\u001b[0m\u001b[1;33m)\u001b[0m\u001b[1;33m\u001b[0m\u001b[1;33m\u001b[0m\u001b[0m\n\u001b[0m\u001b[0;32m     54\u001b[0m \u001b[1;33m\u001b[0m\u001b[0m\n\u001b[0;32m     55\u001b[0m \u001b[1;33m\u001b[0m\u001b[0m\n",
      "\u001b[1;32m<ipython-input-39-d29cf552a03e>\u001b[0m in \u001b[0;36m__init__\u001b[1;34m(self)\u001b[0m\n\u001b[0;32m      6\u001b[0m         \u001b[0mprint\u001b[0m\u001b[1;33m(\u001b[0m\u001b[1;34m\"----Welcome to your Home Inventory Application----\"\u001b[0m\u001b[1;33m)\u001b[0m\u001b[1;33m\u001b[0m\u001b[1;33m\u001b[0m\u001b[0m\n\u001b[0;32m      7\u001b[0m         \u001b[0minventories\u001b[0m \u001b[1;33m=\u001b[0m \u001b[1;33m[\u001b[0m\u001b[1;33m]\u001b[0m\u001b[1;33m\u001b[0m\u001b[1;33m\u001b[0m\u001b[0m\n\u001b[1;32m----> 8\u001b[1;33m         \u001b[0muser_choice\u001b[0m\u001b[1;33m(\u001b[0m\u001b[1;33m)\u001b[0m\u001b[1;33m\u001b[0m\u001b[1;33m\u001b[0m\u001b[0m\n\u001b[0m\u001b[0;32m      9\u001b[0m \u001b[1;33m\u001b[0m\u001b[0m\n\u001b[0;32m     10\u001b[0m \u001b[1;33m\u001b[0m\u001b[0m\n",
      "\u001b[1;32m<ipython-input-39-d29cf552a03e>\u001b[0m in \u001b[0;36muser_choice\u001b[1;34m()\u001b[0m\n\u001b[0;32m     17\u001b[0m         \u001b[1;32mif\u001b[0m \u001b[0mchoice\u001b[0m \u001b[1;33m==\u001b[0m \u001b[1;34m\"start\"\u001b[0m\u001b[1;33m:\u001b[0m\u001b[1;33m\u001b[0m\u001b[1;33m\u001b[0m\u001b[0m\n\u001b[0;32m     18\u001b[0m             \u001b[0mprint\u001b[0m\u001b[1;33m(\u001b[0m\u001b[1;34m\"Inventory Created\"\u001b[0m\u001b[1;33m)\u001b[0m\u001b[1;33m\u001b[0m\u001b[1;33m\u001b[0m\u001b[0m\n\u001b[1;32m---> 19\u001b[1;33m             \u001b[0mstart_inventory\u001b[0m\u001b[1;33m(\u001b[0m\u001b[1;33m)\u001b[0m\u001b[1;33m\u001b[0m\u001b[1;33m\u001b[0m\u001b[0m\n\u001b[0m\u001b[0;32m     20\u001b[0m             \u001b[0muser_choice\u001b[0m\u001b[1;33m(\u001b[0m\u001b[1;33m)\u001b[0m\u001b[1;33m\u001b[0m\u001b[1;33m\u001b[0m\u001b[0m\n\u001b[0;32m     21\u001b[0m         \u001b[1;32melif\u001b[0m \u001b[0mchoice\u001b[0m \u001b[1;33m==\u001b[0m \u001b[1;34m\"read\"\u001b[0m\u001b[1;33m:\u001b[0m\u001b[1;33m\u001b[0m\u001b[1;33m\u001b[0m\u001b[0m\n",
      "\u001b[1;32m<ipython-input-39-d29cf552a03e>\u001b[0m in \u001b[0;36mstart_inventory\u001b[1;34m()\u001b[0m\n\u001b[0;32m     37\u001b[0m \u001b[1;32mdef\u001b[0m \u001b[0mstart_inventory\u001b[0m\u001b[1;33m(\u001b[0m\u001b[1;33m)\u001b[0m\u001b[1;33m:\u001b[0m\u001b[1;33m\u001b[0m\u001b[1;33m\u001b[0m\u001b[0m\n\u001b[0;32m     38\u001b[0m     \u001b[0minventory_dict\u001b[0m \u001b[1;33m=\u001b[0m \u001b[1;33m{\u001b[0m\u001b[1;33m}\u001b[0m\u001b[1;33m\u001b[0m\u001b[1;33m\u001b[0m\u001b[0m\n\u001b[1;32m---> 39\u001b[1;33m     \u001b[0mInventory\u001b[0m\u001b[1;33m.\u001b[0m\u001b[0minventories\u001b[0m\u001b[1;33m.\u001b[0m\u001b[0mappend\u001b[0m\u001b[1;33m(\u001b[0m\u001b[0minventory_dict\u001b[0m\u001b[1;33m)\u001b[0m\u001b[1;33m\u001b[0m\u001b[1;33m\u001b[0m\u001b[0m\n\u001b[0m\u001b[0;32m     40\u001b[0m \u001b[1;32mdef\u001b[0m \u001b[0mread_inventory\u001b[0m\u001b[1;33m(\u001b[0m\u001b[1;33m)\u001b[0m\u001b[1;33m:\u001b[0m\u001b[1;33m\u001b[0m\u001b[1;33m\u001b[0m\u001b[0m\n\u001b[0;32m     41\u001b[0m     \u001b[0mprint\u001b[0m\u001b[1;33m(\u001b[0m\u001b[0mInventory\u001b[0m\u001b[1;33m.\u001b[0m\u001b[0minventories\u001b[0m\u001b[1;33m[\u001b[0m\u001b[1;36m0\u001b[0m\u001b[1;33m]\u001b[0m\u001b[1;33m)\u001b[0m\u001b[1;33m\u001b[0m\u001b[1;33m\u001b[0m\u001b[0m\n",
      "\u001b[1;31mAttributeError\u001b[0m: type object 'Inventory' has no attribute 'inventories'"
     ]
    }
   ],
   "source": [
    "import json\n",
    "import sys\n",
    "\n",
    "class Inventory:\n",
    "    def __init__(self):\n",
    "        print(\"----Welcome to your Home Inventory Application----\")\n",
    "        inventories = []\n",
    "        user_choice()\n",
    "        example_data = {\n",
    "            0:{'name': \"laptop\", \"color\": \"black\", \"category\": \"technology\"},\n",
    "            1:{'name': \"headphones\", \"color\": \"black\", \"category\": \"headphones\"},\n",
    "            2:{'name': \"pen\", \"color\": 'blue', \"category\": \"stationary\"}}\n",
    "        js = json.dumps(example_data)\n",
    "        inventory_file = open('inventory.json', 'w')\n",
    "        inventory_file.write(js)\n",
    "        inventory_file.close()\n",
    "        \n",
    "\n",
    "    \n",
    "def user_choice():\n",
    "    print(\"Use the following commands to utilize its features\")\n",
    "    print(\"-start()\\n-read()\\n-save()\\n-add_items()\\n-search()\\n-display()\\nTo quit press 'q'\")\n",
    "    choice = input(\"Please input your command: \")\n",
    "    valid_quit_input = False #Validation Check\n",
    "    while valid_quit_input != True: \n",
    "        if choice == \"start\":\n",
    "            print(\"Inventory Created\")\n",
    "            start_inventory()\n",
    "            user_choice()\n",
    "        elif choice == \"read\":\n",
    "            read_inventory()\n",
    "            print(\"Chose Read\")\n",
    "        elif choice == \"save\":\n",
    "            print(\"Chose save\")\n",
    "        elif choice == \"add_items\":\n",
    "            print(\"Chose add_items\")\n",
    "        elif choice == \"search\":\n",
    "            print(\"Chose search\")\n",
    "        elif choice == \"display\":\n",
    "            print(\"Chose display\")\n",
    "        elif choice == \"q\":\n",
    "            valid_quit_input = True\n",
    "        else:\n",
    "            print(\"That is not a valid, input. Please try to input another command\")\n",
    "        \n",
    "def start_inventory():\n",
    "    inventory_dict = {}\n",
    "def read_inventory():\n",
    "    print(inventory_dict)\n",
    "def save_inventory():\n",
    "    pass\n",
    "def add_items():\n",
    "    pass\n",
    "def search_inventory():\n",
    "    pass\n",
    "def display_inventory():\n",
    "    pass\n",
    "\n",
    "   \n",
    "\n",
    "inv1 = Inventory()\n",
    "\n",
    "    \n"
   ]
  }
 ],
 "metadata": {
  "kernelspec": {
   "display_name": "Python 3.9.13 64-bit (microsoft store)",
   "language": "python",
   "name": "python3"
  },
  "language_info": {
   "codemirror_mode": {
    "name": "ipython",
    "version": 3
   },
   "file_extension": ".py",
   "mimetype": "text/x-python",
   "name": "python",
   "nbconvert_exporter": "python",
   "pygments_lexer": "ipython3",
   "version": "3.9.13"
  },
  "orig_nbformat": 4,
  "vscode": {
   "interpreter": {
    "hash": "4c0bb65063aac71c2db85e1852722fa41695724603d9db3a77599e08df9a0461"
   }
  }
 },
 "nbformat": 4,
 "nbformat_minor": 2
}
